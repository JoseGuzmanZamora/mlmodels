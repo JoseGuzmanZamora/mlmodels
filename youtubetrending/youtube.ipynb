{
 "cells": [
  {
   "cell_type": "markdown",
   "metadata": {},
   "source": [
    "# Machine Learning Models \n",
    "# Project 3 \n",
    "## Youtube Trending Videos Analysis and Prediction\n",
    "### José Alejandro Guzmán Zamora "
   ]
  },
  {
   "cell_type": "code",
   "execution_count": 1,
   "metadata": {},
   "outputs": [
    {
     "name": "stderr",
     "output_type": "stream",
     "text": [
      "d:\\cs7\\machine learning models\\mlenv\\lib\\site-packages\\sklearn\\externals\\six.py:31: FutureWarning: The module is deprecated in version 0.21 and will be removed in version 0.23 since we've dropped support for Python 2.7. Please rely on the official version of six (https://pypi.org/project/six/).\n",
      "  \"(https://pypi.org/project/six/).\", FutureWarning)\n"
     ]
    }
   ],
   "source": [
    "\"\"\"\n",
    "Librerías a utilizar a lo largo del proyecto. Cada una tiene un \n",
    "propósito específico que se puede verificar en los comentarios \n",
    "siguientes si se desea. \n",
    "\"\"\"\n",
    "\n",
    "# Librerías de manejo de dataset y demás estructuras de datos\n",
    "import pandas as pd \n",
    "import numpy as np \n",
    "\n",
    "# Librerías de visualizaciones, seaborn trabaja sobre matplotlib\n",
    "import matplotlib.pyplot as plt \n",
    "import seaborn as sns\n",
    "\n",
    "# Librerías para realizar cross validation sobre los modelos generados\n",
    "from sklearn.model_selection import train_test_split\n",
    "from sklearn.model_selection import KFold\n",
    "\n",
    "# Evaluación de cross validation va a depender de ciertas métricas \n",
    "from sklearn import metrics \n",
    "\n",
    "# Modelos a utilizar \n",
    "from sklearn.tree import DecisionTreeClassifier\n",
    "from sklearn.ensemble import BaggingClassifier\n",
    "from sklearn.ensemble import RandomForestClassifier\n",
    "from sklearn.ensemble import AdaBoostClassifier\n",
    "from sklearn.ensemble import AdaBoostRegressor\n",
    "import xgboost as xgb\n",
    "\n",
    "# Herramientas especiales para visualizar decision trees\n",
    "from sklearn.tree import export_graphviz\n",
    "from sklearn.externals.six import StringIO  \n",
    "from IPython.display import Image\n",
    "import pydotplus\n",
    "\n",
    "%matplotlib inline"
   ]
  },
  {
   "cell_type": "markdown",
   "metadata": {},
   "source": [
    "## Exploración y Transformación de Datos"
   ]
  },
  {
   "cell_type": "code",
   "execution_count": 2,
   "metadata": {},
   "outputs": [],
   "source": [
    "\"\"\"\n",
    "El dataset incluye información de videos que aparecieron en la pestaña\n",
    "de trending de Youtube por ciertos países. El objetivo del proyecto \n",
    "es poder determinar si un video va a poder ser trending a nivel internacional,\n",
    "tomando como base los videos que aparecen por primera vez en Estados Unidos. \n",
    "\n",
    "A continuación se hace la lectura de todos los datasets, importante notar que \n",
    "a causa del lenguaje se tuvo que utilizar encoding distinto para ciertos países\n",
    "con caracteres especiales. \n",
    "\"\"\"\n",
    "\n",
    "\n",
    "total = []\n",
    "total.append(pd.read_csv('./CAvideos.csv'))\n",
    "total.append(pd.read_csv('./DEvideos.csv'))\n",
    "total.append(pd.read_csv('./FRvideos.csv'))\n",
    "total.append(pd.read_csv('./GBvideos.csv'))\n",
    "total.append(pd.read_csv('./INvideos.csv'))\n",
    "total.append(pd.read_csv('./JPvideos.csv',encoding='latin1'))\n",
    "total.append(pd.read_csv('./KRvideos.csv',encoding='latin1'))\n",
    "total.append(pd.read_csv('./MXvideos.csv',encoding='latin1'))\n",
    "total.append(pd.read_csv('./RUvideos.csv',encoding='latin1'))\n",
    "us = pd.read_csv('./USvideos.csv')"
   ]
  },
  {
   "cell_type": "code",
   "execution_count": 3,
   "metadata": {},
   "outputs": [
    {
     "name": "stderr",
     "output_type": "stream",
     "text": [
      "d:\\cs7\\machine learning models\\mlenv\\lib\\site-packages\\ipykernel_launcher.py:13: SettingWithCopyWarning: \n",
      "A value is trying to be set on a copy of a slice from a DataFrame.\n",
      "Try using .loc[row_indexer,col_indexer] = value instead\n",
      "\n",
      "See the caveats in the documentation: http://pandas.pydata.org/pandas-docs/stable/user_guide/indexing.html#returning-a-view-versus-a-copy\n",
      "  del sys.path[0]\n"
     ]
    }
   ],
   "source": [
    "\"\"\"\n",
    "Cada uno de los datasets no incluye el valor de target que se quiere determinar, \n",
    "por lo tanto, es necesario realizar algunas transformaciones. Como primer punto \n",
    "se eliminan los registros repetidos. \n",
    "\n",
    "Posteriormente se crea una columna auxiliar que va a calcular la cantidad de países\n",
    "en los que cada video estuvo en trending. Por supuesto todos comienzan en 1 pues ya\n",
    "son parte del dataset base, el de Estados Unidos. \n",
    "\"\"\"\n",
    "\n",
    "base_data = us.copy()\n",
    "base_continuar = base_data.drop_duplicates(subset=[base_data.columns[0]],keep='first')\n",
    "base_continuar['international'] = 1"
   ]
  },
  {
   "cell_type": "code",
   "execution_count": 4,
   "metadata": {},
   "outputs": [
    {
     "name": "stderr",
     "output_type": "stream",
     "text": [
      "d:\\cs7\\machine learning models\\mlenv\\lib\\site-packages\\pandas\\core\\indexing.py:494: SettingWithCopyWarning: \n",
      "A value is trying to be set on a copy of a slice from a DataFrame.\n",
      "Try using .loc[row_indexer,col_indexer] = value instead\n",
      "\n",
      "See the caveats in the documentation: http://pandas.pydata.org/pandas-docs/stable/user_guide/indexing.html#returning-a-view-versus-a-copy\n",
      "  self.obj[item] = s\n"
     ]
    }
   ],
   "source": [
    "\"\"\"\n",
    "La siguiente función hace la revisión de la cantidad de países en los que apareció \n",
    "cada video. Para no hacer el recorrido completo del dataframe por cada país, lo que se\n",
    "hizo fue una lista de identificadores por país y se verificó si cada video estaba dentro \n",
    "del mismo. Si bien es cierto el costo sigue siendo de O(n)*m en donde n es la cantidad de \n",
    "observaciones de US y m es la cantidad de países adicionales; hacer la búsqueda solo por medio\n",
    "de comparaciones de identificadores es una manera más eficiente en cuanto a memoria. \n",
    "\"\"\"\n",
    "def verificacion_us(datas):\n",
    "    for i in datas:\n",
    "        temporal = i.copy()\n",
    "        temporal_continuar = temporal.drop_duplicates(subset=[temporal.columns[0]],keep='first')\n",
    "        for i in range(base_continuar.shape[0]):\n",
    "            if base_continuar.iloc[i,:]['video_id'] in temporal_continuar['video_id'].values:\n",
    "                base_continuar.iloc[i,-1] += 1\n",
    "verificacion_us(total)"
   ]
  },
  {
   "cell_type": "code",
   "execution_count": 5,
   "metadata": {},
   "outputs": [
    {
     "data": {
      "text/plain": [
       "1     3461\n",
       "2     1493\n",
       "3      589\n",
       "4      273\n",
       "5      192\n",
       "6      141\n",
       "7      101\n",
       "8       55\n",
       "9       37\n",
       "10       9\n",
       "Name: international, dtype: int64"
      ]
     },
     "execution_count": 5,
     "metadata": {},
     "output_type": "execute_result"
    }
   ],
   "source": [
    "\"\"\"\n",
    "Verificación rápida de cómo resultó la distribución, debido al propósito del \n",
    "proyecto, se hará un conjunto de los que estuvieron en 2 o más países para los\n",
    "internacionales.\n",
    "\"\"\"\n",
    "\n",
    "base_continuar['international'].value_counts()"
   ]
  },
  {
   "cell_type": "code",
   "execution_count": 6,
   "metadata": {},
   "outputs": [
    {
     "name": "stderr",
     "output_type": "stream",
     "text": [
      "d:\\cs7\\machine learning models\\mlenv\\lib\\site-packages\\ipykernel_launcher.py:7: SettingWithCopyWarning: \n",
      "A value is trying to be set on a copy of a slice from a DataFrame.\n",
      "Try using .loc[row_indexer,col_indexer] = value instead\n",
      "\n",
      "See the caveats in the documentation: http://pandas.pydata.org/pandas-docs/stable/user_guide/indexing.html#returning-a-view-versus-a-copy\n",
      "  import sys\n"
     ]
    },
    {
     "data": {
      "text/html": [
       "<div>\n",
       "<style scoped>\n",
       "    .dataframe tbody tr th:only-of-type {\n",
       "        vertical-align: middle;\n",
       "    }\n",
       "\n",
       "    .dataframe tbody tr th {\n",
       "        vertical-align: top;\n",
       "    }\n",
       "\n",
       "    .dataframe thead th {\n",
       "        text-align: right;\n",
       "    }\n",
       "</style>\n",
       "<table border=\"1\" class=\"dataframe\">\n",
       "  <thead>\n",
       "    <tr style=\"text-align: right;\">\n",
       "      <th></th>\n",
       "      <th>video_id</th>\n",
       "      <th>trending_date</th>\n",
       "      <th>title</th>\n",
       "      <th>channel_title</th>\n",
       "      <th>category_id</th>\n",
       "      <th>publish_time</th>\n",
       "      <th>tags</th>\n",
       "      <th>views</th>\n",
       "      <th>likes</th>\n",
       "      <th>dislikes</th>\n",
       "      <th>comment_count</th>\n",
       "      <th>thumbnail_link</th>\n",
       "      <th>comments_disabled</th>\n",
       "      <th>ratings_disabled</th>\n",
       "      <th>video_error_or_removed</th>\n",
       "      <th>description</th>\n",
       "      <th>target</th>\n",
       "    </tr>\n",
       "  </thead>\n",
       "  <tbody>\n",
       "    <tr>\n",
       "      <th>0</th>\n",
       "      <td>2kyS6SvSYSE</td>\n",
       "      <td>17.14.11</td>\n",
       "      <td>WE WANT TO TALK ABOUT OUR MARRIAGE</td>\n",
       "      <td>CaseyNeistat</td>\n",
       "      <td>22</td>\n",
       "      <td>2017-11-13T17:13:01.000Z</td>\n",
       "      <td>SHANtell martin</td>\n",
       "      <td>748374</td>\n",
       "      <td>57527</td>\n",
       "      <td>2966</td>\n",
       "      <td>15954</td>\n",
       "      <td>https://i.ytimg.com/vi/2kyS6SvSYSE/default.jpg</td>\n",
       "      <td>False</td>\n",
       "      <td>False</td>\n",
       "      <td>False</td>\n",
       "      <td>SHANTELL'S CHANNEL - https://www.youtube.com/s...</td>\n",
       "      <td>1</td>\n",
       "    </tr>\n",
       "    <tr>\n",
       "      <th>1</th>\n",
       "      <td>1ZAPwfrtAFY</td>\n",
       "      <td>17.14.11</td>\n",
       "      <td>The Trump Presidency: Last Week Tonight with J...</td>\n",
       "      <td>LastWeekTonight</td>\n",
       "      <td>24</td>\n",
       "      <td>2017-11-13T07:30:00.000Z</td>\n",
       "      <td>last week tonight trump presidency|\"last week ...</td>\n",
       "      <td>2418783</td>\n",
       "      <td>97185</td>\n",
       "      <td>6146</td>\n",
       "      <td>12703</td>\n",
       "      <td>https://i.ytimg.com/vi/1ZAPwfrtAFY/default.jpg</td>\n",
       "      <td>False</td>\n",
       "      <td>False</td>\n",
       "      <td>False</td>\n",
       "      <td>One year after the presidential election, John...</td>\n",
       "      <td>1</td>\n",
       "    </tr>\n",
       "    <tr>\n",
       "      <th>2</th>\n",
       "      <td>5qpjK5DgCt4</td>\n",
       "      <td>17.14.11</td>\n",
       "      <td>Racist Superman | Rudy Mancuso, King Bach &amp; Le...</td>\n",
       "      <td>Rudy Mancuso</td>\n",
       "      <td>23</td>\n",
       "      <td>2017-11-12T19:05:24.000Z</td>\n",
       "      <td>racist superman|\"rudy\"|\"mancuso\"|\"king\"|\"bach\"...</td>\n",
       "      <td>3191434</td>\n",
       "      <td>146033</td>\n",
       "      <td>5339</td>\n",
       "      <td>8181</td>\n",
       "      <td>https://i.ytimg.com/vi/5qpjK5DgCt4/default.jpg</td>\n",
       "      <td>False</td>\n",
       "      <td>False</td>\n",
       "      <td>False</td>\n",
       "      <td>WATCH MY PREVIOUS VIDEO ▶ \\n\\nSUBSCRIBE ► http...</td>\n",
       "      <td>1</td>\n",
       "    </tr>\n",
       "    <tr>\n",
       "      <th>3</th>\n",
       "      <td>puqaWrEC7tY</td>\n",
       "      <td>17.14.11</td>\n",
       "      <td>Nickelback Lyrics: Real or Fake?</td>\n",
       "      <td>Good Mythical Morning</td>\n",
       "      <td>24</td>\n",
       "      <td>2017-11-13T11:00:04.000Z</td>\n",
       "      <td>rhett and link|\"gmm\"|\"good mythical morning\"|\"...</td>\n",
       "      <td>343168</td>\n",
       "      <td>10172</td>\n",
       "      <td>666</td>\n",
       "      <td>2146</td>\n",
       "      <td>https://i.ytimg.com/vi/puqaWrEC7tY/default.jpg</td>\n",
       "      <td>False</td>\n",
       "      <td>False</td>\n",
       "      <td>False</td>\n",
       "      <td>Today we find out if Link is a Nickelback amat...</td>\n",
       "      <td>1</td>\n",
       "    </tr>\n",
       "    <tr>\n",
       "      <th>4</th>\n",
       "      <td>d380meD0W0M</td>\n",
       "      <td>17.14.11</td>\n",
       "      <td>I Dare You: GOING BALD!?</td>\n",
       "      <td>nigahiga</td>\n",
       "      <td>24</td>\n",
       "      <td>2017-11-12T18:01:41.000Z</td>\n",
       "      <td>ryan|\"higa\"|\"higatv\"|\"nigahiga\"|\"i dare you\"|\"...</td>\n",
       "      <td>2095731</td>\n",
       "      <td>132235</td>\n",
       "      <td>1989</td>\n",
       "      <td>17518</td>\n",
       "      <td>https://i.ytimg.com/vi/d380meD0W0M/default.jpg</td>\n",
       "      <td>False</td>\n",
       "      <td>False</td>\n",
       "      <td>False</td>\n",
       "      <td>I know it's been a while since we did this sho...</td>\n",
       "      <td>1</td>\n",
       "    </tr>\n",
       "  </tbody>\n",
       "</table>\n",
       "</div>"
      ],
      "text/plain": [
       "      video_id trending_date  \\\n",
       "0  2kyS6SvSYSE      17.14.11   \n",
       "1  1ZAPwfrtAFY      17.14.11   \n",
       "2  5qpjK5DgCt4      17.14.11   \n",
       "3  puqaWrEC7tY      17.14.11   \n",
       "4  d380meD0W0M      17.14.11   \n",
       "\n",
       "                                               title          channel_title  \\\n",
       "0                 WE WANT TO TALK ABOUT OUR MARRIAGE           CaseyNeistat   \n",
       "1  The Trump Presidency: Last Week Tonight with J...        LastWeekTonight   \n",
       "2  Racist Superman | Rudy Mancuso, King Bach & Le...           Rudy Mancuso   \n",
       "3                   Nickelback Lyrics: Real or Fake?  Good Mythical Morning   \n",
       "4                           I Dare You: GOING BALD!?               nigahiga   \n",
       "\n",
       "   category_id              publish_time  \\\n",
       "0           22  2017-11-13T17:13:01.000Z   \n",
       "1           24  2017-11-13T07:30:00.000Z   \n",
       "2           23  2017-11-12T19:05:24.000Z   \n",
       "3           24  2017-11-13T11:00:04.000Z   \n",
       "4           24  2017-11-12T18:01:41.000Z   \n",
       "\n",
       "                                                tags    views   likes  \\\n",
       "0                                    SHANtell martin   748374   57527   \n",
       "1  last week tonight trump presidency|\"last week ...  2418783   97185   \n",
       "2  racist superman|\"rudy\"|\"mancuso\"|\"king\"|\"bach\"...  3191434  146033   \n",
       "3  rhett and link|\"gmm\"|\"good mythical morning\"|\"...   343168   10172   \n",
       "4  ryan|\"higa\"|\"higatv\"|\"nigahiga\"|\"i dare you\"|\"...  2095731  132235   \n",
       "\n",
       "   dislikes  comment_count                                  thumbnail_link  \\\n",
       "0      2966          15954  https://i.ytimg.com/vi/2kyS6SvSYSE/default.jpg   \n",
       "1      6146          12703  https://i.ytimg.com/vi/1ZAPwfrtAFY/default.jpg   \n",
       "2      5339           8181  https://i.ytimg.com/vi/5qpjK5DgCt4/default.jpg   \n",
       "3       666           2146  https://i.ytimg.com/vi/puqaWrEC7tY/default.jpg   \n",
       "4      1989          17518  https://i.ytimg.com/vi/d380meD0W0M/default.jpg   \n",
       "\n",
       "   comments_disabled  ratings_disabled  video_error_or_removed  \\\n",
       "0              False             False                   False   \n",
       "1              False             False                   False   \n",
       "2              False             False                   False   \n",
       "3              False             False                   False   \n",
       "4              False             False                   False   \n",
       "\n",
       "                                         description  target  \n",
       "0  SHANTELL'S CHANNEL - https://www.youtube.com/s...       1  \n",
       "1  One year after the presidential election, John...       1  \n",
       "2  WATCH MY PREVIOUS VIDEO ▶ \\n\\nSUBSCRIBE ► http...       1  \n",
       "3  Today we find out if Link is a Nickelback amat...       1  \n",
       "4  I know it's been a while since we did this sho...       1  "
      ]
     },
     "execution_count": 6,
     "metadata": {},
     "output_type": "execute_result"
    }
   ],
   "source": [
    "\"\"\"\n",
    "Crear la columna target que será nuestra response variable y hacer la\n",
    "operación de comparación respectiva para determinar si cada uno de los \n",
    "videos es internacional (1) o no (0).\n",
    "\"\"\"\n",
    "\n",
    "base_continuar['target'] = 0\n",
    "base_continuar.loc[base_continuar['international'] > 1, 'target'] = 1\n",
    "data = base_continuar.drop(['international'],1)\n",
    "data.head()"
   ]
  },
  {
   "cell_type": "code",
   "execution_count": 7,
   "metadata": {},
   "outputs": [
    {
     "data": {
      "text/html": [
       "<div>\n",
       "<style scoped>\n",
       "    .dataframe tbody tr th:only-of-type {\n",
       "        vertical-align: middle;\n",
       "    }\n",
       "\n",
       "    .dataframe tbody tr th {\n",
       "        vertical-align: top;\n",
       "    }\n",
       "\n",
       "    .dataframe thead th {\n",
       "        text-align: right;\n",
       "    }\n",
       "</style>\n",
       "<table border=\"1\" class=\"dataframe\">\n",
       "  <thead>\n",
       "    <tr style=\"text-align: right;\">\n",
       "      <th></th>\n",
       "      <th>video_id</th>\n",
       "      <th>trending_date</th>\n",
       "      <th>title</th>\n",
       "      <th>channel_title</th>\n",
       "      <th>category_id</th>\n",
       "      <th>publish_time</th>\n",
       "      <th>tags</th>\n",
       "      <th>views</th>\n",
       "      <th>likes</th>\n",
       "      <th>dislikes</th>\n",
       "      <th>comment_count</th>\n",
       "      <th>thumbnail_link</th>\n",
       "      <th>comments_disabled</th>\n",
       "      <th>ratings_disabled</th>\n",
       "      <th>video_error_or_removed</th>\n",
       "      <th>description</th>\n",
       "      <th>target</th>\n",
       "    </tr>\n",
       "  </thead>\n",
       "  <tbody>\n",
       "    <tr>\n",
       "      <th>40760</th>\n",
       "      <td>dS5Thrl-4Kc</td>\n",
       "      <td>18.14.06</td>\n",
       "      <td>CRAYOLA MAKEUP | HIT OR MISS?</td>\n",
       "      <td>Laura Lee</td>\n",
       "      <td>26</td>\n",
       "      <td>2018-06-12T18:55:26.000Z</td>\n",
       "      <td>Laura88Lee|\"crayola\"|\"crayon makeup\"|\"crayola ...</td>\n",
       "      <td>607422</td>\n",
       "      <td>26166</td>\n",
       "      <td>895</td>\n",
       "      <td>3517</td>\n",
       "      <td>https://i.ytimg.com/vi/dS5Thrl-4Kc/default.jpg</td>\n",
       "      <td>False</td>\n",
       "      <td>False</td>\n",
       "      <td>False</td>\n",
       "      <td>Hey Larlees, todays video is me testing Crayol...</td>\n",
       "      <td>0</td>\n",
       "    </tr>\n",
       "    <tr>\n",
       "      <th>40761</th>\n",
       "      <td>JGm9Y_hFqNk</td>\n",
       "      <td>18.14.06</td>\n",
       "      <td>First Take reacts: Kyrie Irving says contract ...</td>\n",
       "      <td>ESPN</td>\n",
       "      <td>17</td>\n",
       "      <td>2018-06-13T15:06:08.000Z</td>\n",
       "      <td>espn|\"espn live\"|\"boston celtics\"|\"kyrie irvin...</td>\n",
       "      <td>812832</td>\n",
       "      <td>7701</td>\n",
       "      <td>320</td>\n",
       "      <td>2505</td>\n",
       "      <td>https://i.ytimg.com/vi/JGm9Y_hFqNk/default.jpg</td>\n",
       "      <td>False</td>\n",
       "      <td>False</td>\n",
       "      <td>False</td>\n",
       "      <td>First Take's Stephen A. Smith and Max Kellerma...</td>\n",
       "      <td>1</td>\n",
       "    </tr>\n",
       "    <tr>\n",
       "      <th>40762</th>\n",
       "      <td>6h8QgZF5Qu4</td>\n",
       "      <td>18.14.06</td>\n",
       "      <td>Drop the Mic w/ Ashton Kutcher &amp; Sean Diddy Combs</td>\n",
       "      <td>The Late Late Show with James Corden</td>\n",
       "      <td>24</td>\n",
       "      <td>2018-06-13T05:27:27.000Z</td>\n",
       "      <td>The Late Late Show|\"Late Late Show\"|\"James Cor...</td>\n",
       "      <td>864189</td>\n",
       "      <td>18811</td>\n",
       "      <td>399</td>\n",
       "      <td>1074</td>\n",
       "      <td>https://i.ytimg.com/vi/6h8QgZF5Qu4/default.jpg</td>\n",
       "      <td>False</td>\n",
       "      <td>False</td>\n",
       "      <td>False</td>\n",
       "      <td>James Corden and Ashton Kutcher square off in ...</td>\n",
       "      <td>1</td>\n",
       "    </tr>\n",
       "    <tr>\n",
       "      <th>40764</th>\n",
       "      <td>mpnshdmtE2Y</td>\n",
       "      <td>18.14.06</td>\n",
       "      <td>Carla Makes BA Smashburgers | From the Test Ki...</td>\n",
       "      <td>Bon Appétit</td>\n",
       "      <td>26</td>\n",
       "      <td>2018-06-12T16:03:58.000Z</td>\n",
       "      <td>bon appetit|\"burgers\"|\"cheeseburgers\"|\"how to ...</td>\n",
       "      <td>540149</td>\n",
       "      <td>14206</td>\n",
       "      <td>693</td>\n",
       "      <td>1211</td>\n",
       "      <td>https://i.ytimg.com/vi/mpnshdmtE2Y/default.jpg</td>\n",
       "      <td>False</td>\n",
       "      <td>False</td>\n",
       "      <td>False</td>\n",
       "      <td>Ground chuck is a great all-purpose, buy-it-an...</td>\n",
       "      <td>1</td>\n",
       "    </tr>\n",
       "    <tr>\n",
       "      <th>40766</th>\n",
       "      <td>yz7Xq3T0YPs</td>\n",
       "      <td>18.14.06</td>\n",
       "      <td>Katherine Langford on 13 Reasons Why, Australi...</td>\n",
       "      <td>Jimmy Kimmel Live</td>\n",
       "      <td>24</td>\n",
       "      <td>2018-06-13T09:00:06.000Z</td>\n",
       "      <td>jimmy|\"kimmel\"|\"live\"|\"late\"|\"night\"|\"talk\"|\"s...</td>\n",
       "      <td>296295</td>\n",
       "      <td>8157</td>\n",
       "      <td>294</td>\n",
       "      <td>764</td>\n",
       "      <td>https://i.ytimg.com/vi/yz7Xq3T0YPs/default.jpg</td>\n",
       "      <td>False</td>\n",
       "      <td>False</td>\n",
       "      <td>False</td>\n",
       "      <td>Katherine talks about learning accents, growin...</td>\n",
       "      <td>0</td>\n",
       "    </tr>\n",
       "  </tbody>\n",
       "</table>\n",
       "</div>"
      ],
      "text/plain": [
       "          video_id trending_date  \\\n",
       "40760  dS5Thrl-4Kc      18.14.06   \n",
       "40761  JGm9Y_hFqNk      18.14.06   \n",
       "40762  6h8QgZF5Qu4      18.14.06   \n",
       "40764  mpnshdmtE2Y      18.14.06   \n",
       "40766  yz7Xq3T0YPs      18.14.06   \n",
       "\n",
       "                                                   title  \\\n",
       "40760                      CRAYOLA MAKEUP | HIT OR MISS?   \n",
       "40761  First Take reacts: Kyrie Irving says contract ...   \n",
       "40762  Drop the Mic w/ Ashton Kutcher & Sean Diddy Combs   \n",
       "40764  Carla Makes BA Smashburgers | From the Test Ki...   \n",
       "40766  Katherine Langford on 13 Reasons Why, Australi...   \n",
       "\n",
       "                              channel_title  category_id  \\\n",
       "40760                             Laura Lee           26   \n",
       "40761                                  ESPN           17   \n",
       "40762  The Late Late Show with James Corden           24   \n",
       "40764                           Bon Appétit           26   \n",
       "40766                     Jimmy Kimmel Live           24   \n",
       "\n",
       "                   publish_time  \\\n",
       "40760  2018-06-12T18:55:26.000Z   \n",
       "40761  2018-06-13T15:06:08.000Z   \n",
       "40762  2018-06-13T05:27:27.000Z   \n",
       "40764  2018-06-12T16:03:58.000Z   \n",
       "40766  2018-06-13T09:00:06.000Z   \n",
       "\n",
       "                                                    tags   views  likes  \\\n",
       "40760  Laura88Lee|\"crayola\"|\"crayon makeup\"|\"crayola ...  607422  26166   \n",
       "40761  espn|\"espn live\"|\"boston celtics\"|\"kyrie irvin...  812832   7701   \n",
       "40762  The Late Late Show|\"Late Late Show\"|\"James Cor...  864189  18811   \n",
       "40764  bon appetit|\"burgers\"|\"cheeseburgers\"|\"how to ...  540149  14206   \n",
       "40766  jimmy|\"kimmel\"|\"live\"|\"late\"|\"night\"|\"talk\"|\"s...  296295   8157   \n",
       "\n",
       "       dislikes  comment_count  \\\n",
       "40760       895           3517   \n",
       "40761       320           2505   \n",
       "40762       399           1074   \n",
       "40764       693           1211   \n",
       "40766       294            764   \n",
       "\n",
       "                                       thumbnail_link  comments_disabled  \\\n",
       "40760  https://i.ytimg.com/vi/dS5Thrl-4Kc/default.jpg              False   \n",
       "40761  https://i.ytimg.com/vi/JGm9Y_hFqNk/default.jpg              False   \n",
       "40762  https://i.ytimg.com/vi/6h8QgZF5Qu4/default.jpg              False   \n",
       "40764  https://i.ytimg.com/vi/mpnshdmtE2Y/default.jpg              False   \n",
       "40766  https://i.ytimg.com/vi/yz7Xq3T0YPs/default.jpg              False   \n",
       "\n",
       "       ratings_disabled  video_error_or_removed  \\\n",
       "40760             False                   False   \n",
       "40761             False                   False   \n",
       "40762             False                   False   \n",
       "40764             False                   False   \n",
       "40766             False                   False   \n",
       "\n",
       "                                             description  target  \n",
       "40760  Hey Larlees, todays video is me testing Crayol...       0  \n",
       "40761  First Take's Stephen A. Smith and Max Kellerma...       1  \n",
       "40762  James Corden and Ashton Kutcher square off in ...       1  \n",
       "40764  Ground chuck is a great all-purpose, buy-it-an...       1  \n",
       "40766  Katherine talks about learning accents, growin...       0  "
      ]
     },
     "execution_count": 7,
     "metadata": {},
     "output_type": "execute_result"
    }
   ],
   "source": [
    "data.tail()"
   ]
  },
  {
   "cell_type": "code",
   "execution_count": 8,
   "metadata": {},
   "outputs": [
    {
     "name": "stdout",
     "output_type": "stream",
     "text": [
      "<class 'pandas.core.frame.DataFrame'>\n",
      "Int64Index: 6351 entries, 0 to 40766\n",
      "Data columns (total 17 columns):\n",
      "video_id                  6351 non-null object\n",
      "trending_date             6351 non-null object\n",
      "title                     6351 non-null object\n",
      "channel_title             6351 non-null object\n",
      "category_id               6351 non-null int64\n",
      "publish_time              6351 non-null object\n",
      "tags                      6351 non-null object\n",
      "views                     6351 non-null int64\n",
      "likes                     6351 non-null int64\n",
      "dislikes                  6351 non-null int64\n",
      "comment_count             6351 non-null int64\n",
      "thumbnail_link            6351 non-null object\n",
      "comments_disabled         6351 non-null bool\n",
      "ratings_disabled          6351 non-null bool\n",
      "video_error_or_removed    6351 non-null bool\n",
      "description               6249 non-null object\n",
      "target                    6351 non-null int64\n",
      "dtypes: bool(3), int64(6), object(8)\n",
      "memory usage: 1.1+ MB\n"
     ]
    }
   ],
   "source": [
    "\"\"\"\n",
    "Overview del dataframe, podemos verificar que hay 3 de tipo boolean \n",
    "(posteriormente se transformarán), hay 6 de enteros y hay 8 columnas\n",
    "de tipo objeto. Esa información es útil para determinar las features \n",
    "que de cajón no nos van a ser útiles, así como lo va a ser un identificador\n",
    "de video. \n",
    "\"\"\"\n",
    "\n",
    "data.info()"
   ]
  },
  {
   "cell_type": "code",
   "execution_count": 9,
   "metadata": {},
   "outputs": [],
   "source": [
    "\"\"\"\n",
    "En el siguiente arreglo se colocarón las variables que nos resultarán\n",
    "inútiles. Además para aprovechar la data de los tags utilizados, \n",
    "se realizó un split para obtener información de la cantidad de tags\n",
    "que se utilizan en cada video. Posteriormente se comprobará si esta columna\n",
    "va a ser de ayuda para la predicción. \n",
    "\"\"\"\n",
    "\n",
    "unusable_variables = ['trending_date','publish_time','video_id', \n",
    "                      'title', 'thumbnail_link','description', 'channel_title']\n",
    "data_usar = data.drop(unusable_variables,1)\n",
    "\n",
    "auxiliar = [len(data_usar.iloc[i,1].split('|')) for i in range(len(data_usar))]\n",
    "data_usar.drop(['tags'],1,inplace=True)\n",
    "data_usar['ntags'] = auxiliar"
   ]
  },
  {
   "cell_type": "code",
   "execution_count": 11,
   "metadata": {},
   "outputs": [
    {
     "name": "stdout",
     "output_type": "stream",
     "text": [
      "<class 'pandas.core.frame.DataFrame'>\n",
      "Int64Index: 6351 entries, 0 to 40766\n",
      "Data columns (total 10 columns):\n",
      "category_id               6351 non-null int64\n",
      "views                     6351 non-null int64\n",
      "likes                     6351 non-null int64\n",
      "dislikes                  6351 non-null int64\n",
      "comment_count             6351 non-null int64\n",
      "comments_disabled         6351 non-null int32\n",
      "ratings_disabled          6351 non-null int32\n",
      "video_error_or_removed    6351 non-null int32\n",
      "target                    6351 non-null int64\n",
      "ntags                     6351 non-null int64\n",
      "dtypes: int32(3), int64(7)\n",
      "memory usage: 791.4 KB\n"
     ]
    }
   ],
   "source": [
    "\"\"\"\n",
    "Tal como se mencionó, se colocó cada columna boolean como una binaria.\n",
    "En el nuevo info se puede ver que nuestros valores ya son todos numéricos,\n",
    "sin embargo, todavía hace falta un poco de investigación en cuanto a la \n",
    "columna de category_id. \n",
    "\"\"\"\n",
    "\n",
    "data_usar['comments_disabled'] = data_usar['comments_disabled'].astype(int)\n",
    "data_usar['ratings_disabled'] = data_usar['ratings_disabled'].astype(int)\n",
    "data_usar['video_error_or_removed'] = data_usar['video_error_or_removed'].astype(int)\n",
    "\n",
    "data_usar.info()"
   ]
  },
  {
   "cell_type": "code",
   "execution_count": 12,
   "metadata": {},
   "outputs": [
    {
     "data": {
      "text/html": [
       "<div>\n",
       "<style scoped>\n",
       "    .dataframe tbody tr th:only-of-type {\n",
       "        vertical-align: middle;\n",
       "    }\n",
       "\n",
       "    .dataframe tbody tr th {\n",
       "        vertical-align: top;\n",
       "    }\n",
       "\n",
       "    .dataframe thead th {\n",
       "        text-align: right;\n",
       "    }\n",
       "</style>\n",
       "<table border=\"1\" class=\"dataframe\">\n",
       "  <thead>\n",
       "    <tr style=\"text-align: right;\">\n",
       "      <th></th>\n",
       "      <th>category_id</th>\n",
       "      <th>views</th>\n",
       "      <th>likes</th>\n",
       "      <th>dislikes</th>\n",
       "      <th>comment_count</th>\n",
       "      <th>comments_disabled</th>\n",
       "      <th>ratings_disabled</th>\n",
       "      <th>video_error_or_removed</th>\n",
       "      <th>target</th>\n",
       "      <th>ntags</th>\n",
       "    </tr>\n",
       "  </thead>\n",
       "  <tbody>\n",
       "    <tr>\n",
       "      <th>count</th>\n",
       "      <td>6351.000000</td>\n",
       "      <td>6.351000e+03</td>\n",
       "      <td>6.351000e+03</td>\n",
       "      <td>6351.000000</td>\n",
       "      <td>6351.000000</td>\n",
       "      <td>6351.000000</td>\n",
       "      <td>6351.000000</td>\n",
       "      <td>6351.000000</td>\n",
       "      <td>6351.000000</td>\n",
       "      <td>6351.000000</td>\n",
       "    </tr>\n",
       "    <tr>\n",
       "      <th>mean</th>\n",
       "      <td>20.444182</td>\n",
       "      <td>7.582096e+05</td>\n",
       "      <td>3.449357e+04</td>\n",
       "      <td>1427.222012</td>\n",
       "      <td>4501.707290</td>\n",
       "      <td>0.015903</td>\n",
       "      <td>0.004094</td>\n",
       "      <td>0.000472</td>\n",
       "      <td>0.455046</td>\n",
       "      <td>19.852937</td>\n",
       "    </tr>\n",
       "    <tr>\n",
       "      <th>std</th>\n",
       "      <td>7.213046</td>\n",
       "      <td>1.928993e+06</td>\n",
       "      <td>1.162439e+05</td>\n",
       "      <td>12078.814524</td>\n",
       "      <td>21460.223331</td>\n",
       "      <td>0.125110</td>\n",
       "      <td>0.063857</td>\n",
       "      <td>0.021731</td>\n",
       "      <td>0.498014</td>\n",
       "      <td>12.174717</td>\n",
       "    </tr>\n",
       "    <tr>\n",
       "      <th>min</th>\n",
       "      <td>1.000000</td>\n",
       "      <td>5.490000e+02</td>\n",
       "      <td>0.000000e+00</td>\n",
       "      <td>0.000000</td>\n",
       "      <td>0.000000</td>\n",
       "      <td>0.000000</td>\n",
       "      <td>0.000000</td>\n",
       "      <td>0.000000</td>\n",
       "      <td>0.000000</td>\n",
       "      <td>1.000000</td>\n",
       "    </tr>\n",
       "    <tr>\n",
       "      <th>25%</th>\n",
       "      <td>17.000000</td>\n",
       "      <td>8.351100e+04</td>\n",
       "      <td>1.908000e+03</td>\n",
       "      <td>72.000000</td>\n",
       "      <td>261.000000</td>\n",
       "      <td>0.000000</td>\n",
       "      <td>0.000000</td>\n",
       "      <td>0.000000</td>\n",
       "      <td>0.000000</td>\n",
       "      <td>10.000000</td>\n",
       "    </tr>\n",
       "    <tr>\n",
       "      <th>50%</th>\n",
       "      <td>24.000000</td>\n",
       "      <td>2.709020e+05</td>\n",
       "      <td>7.987000e+03</td>\n",
       "      <td>242.000000</td>\n",
       "      <td>921.000000</td>\n",
       "      <td>0.000000</td>\n",
       "      <td>0.000000</td>\n",
       "      <td>0.000000</td>\n",
       "      <td>0.000000</td>\n",
       "      <td>19.000000</td>\n",
       "    </tr>\n",
       "    <tr>\n",
       "      <th>75%</th>\n",
       "      <td>25.000000</td>\n",
       "      <td>7.512665e+05</td>\n",
       "      <td>2.516300e+04</td>\n",
       "      <td>763.000000</td>\n",
       "      <td>2845.000000</td>\n",
       "      <td>0.000000</td>\n",
       "      <td>0.000000</td>\n",
       "      <td>0.000000</td>\n",
       "      <td>1.000000</td>\n",
       "      <td>29.000000</td>\n",
       "    </tr>\n",
       "    <tr>\n",
       "      <th>max</th>\n",
       "      <td>43.000000</td>\n",
       "      <td>4.843165e+07</td>\n",
       "      <td>3.880071e+06</td>\n",
       "      <td>629120.000000</td>\n",
       "      <td>733373.000000</td>\n",
       "      <td>1.000000</td>\n",
       "      <td>1.000000</td>\n",
       "      <td>1.000000</td>\n",
       "      <td>1.000000</td>\n",
       "      <td>69.000000</td>\n",
       "    </tr>\n",
       "  </tbody>\n",
       "</table>\n",
       "</div>"
      ],
      "text/plain": [
       "       category_id         views         likes       dislikes  comment_count  \\\n",
       "count  6351.000000  6.351000e+03  6.351000e+03    6351.000000    6351.000000   \n",
       "mean     20.444182  7.582096e+05  3.449357e+04    1427.222012    4501.707290   \n",
       "std       7.213046  1.928993e+06  1.162439e+05   12078.814524   21460.223331   \n",
       "min       1.000000  5.490000e+02  0.000000e+00       0.000000       0.000000   \n",
       "25%      17.000000  8.351100e+04  1.908000e+03      72.000000     261.000000   \n",
       "50%      24.000000  2.709020e+05  7.987000e+03     242.000000     921.000000   \n",
       "75%      25.000000  7.512665e+05  2.516300e+04     763.000000    2845.000000   \n",
       "max      43.000000  4.843165e+07  3.880071e+06  629120.000000  733373.000000   \n",
       "\n",
       "       comments_disabled  ratings_disabled  video_error_or_removed  \\\n",
       "count        6351.000000       6351.000000             6351.000000   \n",
       "mean            0.015903          0.004094                0.000472   \n",
       "std             0.125110          0.063857                0.021731   \n",
       "min             0.000000          0.000000                0.000000   \n",
       "25%             0.000000          0.000000                0.000000   \n",
       "50%             0.000000          0.000000                0.000000   \n",
       "75%             0.000000          0.000000                0.000000   \n",
       "max             1.000000          1.000000                1.000000   \n",
       "\n",
       "            target        ntags  \n",
       "count  6351.000000  6351.000000  \n",
       "mean      0.455046    19.852937  \n",
       "std       0.498014    12.174717  \n",
       "min       0.000000     1.000000  \n",
       "25%       0.000000    10.000000  \n",
       "50%       0.000000    19.000000  \n",
       "75%       1.000000    29.000000  \n",
       "max       1.000000    69.000000  "
      ]
     },
     "execution_count": 12,
     "metadata": {},
     "output_type": "execute_result"
    }
   ],
   "source": [
    "\"\"\"\n",
    "Datos estadísticos básicos para entender un poco más el dataset.\n",
    "\"\"\"\n",
    "\n",
    "data_usar.describe()"
   ]
  },
  {
   "cell_type": "code",
   "execution_count": 13,
   "metadata": {},
   "outputs": [
    {
     "data": {
      "text/plain": [
       "category_id               0\n",
       "views                     0\n",
       "likes                     0\n",
       "dislikes                  0\n",
       "comment_count             0\n",
       "comments_disabled         0\n",
       "ratings_disabled          0\n",
       "video_error_or_removed    0\n",
       "target                    0\n",
       "ntags                     0\n",
       "dtype: int64"
      ]
     },
     "execution_count": 13,
     "metadata": {},
     "output_type": "execute_result"
    }
   ],
   "source": [
    "\"\"\"\n",
    "Antes de continuar con la exploración, hay que ver si hay \n",
    "presencia de datos nulos. Afortunadamente no hay que hacer \n",
    "imputación ni eliminación. \n",
    "\"\"\"\n",
    "data_usar.isna().sum()"
   ]
  },
  {
   "cell_type": "code",
   "execution_count": 31,
   "metadata": {},
   "outputs": [
    {
     "data": {
      "image/png": "[encoded data removed]",
      "text/plain": [
       "<Figure size 360x360 with 1 Axes>"
      ]
     },
     "metadata": {
      "needs_background": "light"
     },
     "output_type": "display_data"
    }
   ],
   "source": [
    "\"\"\"\n",
    "Distribución de las vistas. Se puede ver claramente que \n",
    "hay una distribución logarítmica.\n",
    "\"\"\"\n",
    "\n",
    "def plot_dist(value,log):\n",
    "    fig = plt.figure(figsize=(5,5))\n",
    "    axtemp = fig.add_subplot(111)\n",
    "    axtemp.spines['top'].set_visible(False)\n",
    "    axtemp.spines['right'].set_visible(False)\n",
    "    axtemp.spines['bottom'].set_visible(False)\n",
    "    axtemp.spines['left'].set_visible(False)\n",
    "    if log:\n",
    "        sns.distplot(np.log(data_usar[value] + 1),color=\"red\")\n",
    "    else:\n",
    "        sns.distplot(data_usar[value],color=\"red\")\n",
    "    plt.title(\"Distribución de \" + value)\n",
    "    plt.show()\n",
    "\n",
    "plot_dist('views',False)"
   ]
  },
  {
   "cell_type": "code",
   "execution_count": 32,
   "metadata": {},
   "outputs": [
    {
     "data": {
      "image/png": "[encoded data removed]",
      "text/plain": [
       "<Figure size 360x360 with 1 Axes>"
      ]
     },
     "metadata": {
      "needs_background": "light"
     },
     "output_type": "display_data"
    }
   ],
   "source": [
    "\"\"\"\n",
    "Al aplicar un logaritmo a la distribución original, se \n",
    "obtiene una distribución más normal con un leve sesgo \n",
    "a la izquierda. Sin embargo, muchos de los algoritmos \n",
    "que se utilizarán no hacen ninguna suposición de la \n",
    "distribución de los datos. \n",
    "\"\"\"\n",
    "\n",
    "plot_dist('views',True)"
   ]
  },
  {
   "cell_type": "code",
   "execution_count": 33,
   "metadata": {},
   "outputs": [
    {
     "data": {
      "image/png": "[encoded data removed]",
      "text/plain": [
       "<Figure size 360x360 with 1 Axes>"
      ]
     },
     "metadata": {
      "needs_background": "light"
     },
     "output_type": "display_data"
    }
   ],
   "source": [
    "plot_dist('likes',True)"
   ]
  },
  {
   "cell_type": "code",
   "execution_count": 34,
   "metadata": {},
   "outputs": [
    {
     "data": {
      "image/png": "[encoded data removed]",
      "text/plain": [
       "<Figure size 360x360 with 1 Axes>"
      ]
     },
     "metadata": {
      "needs_background": "light"
     },
     "output_type": "display_data"
    }
   ],
   "source": [
    "plot_dist('dislikes',True)"
   ]
  },
  {
   "cell_type": "code",
   "execution_count": 35,
   "metadata": {},
   "outputs": [
    {
     "data": {
      "image/png": "[encoded data removed]",
      "text/plain": [
       "<Figure size 360x360 with 1 Axes>"
      ]
     },
     "metadata": {
      "needs_background": "light"
     },
     "output_type": "display_data"
    }
   ],
   "source": [
    "plot_dist('comment_count',True)"
   ]
  },
  {
   "cell_type": "code",
   "execution_count": 36,
   "metadata": {},
   "outputs": [
    {
     "data": {
      "image/png": "[encoded data removed]",
      "text/plain": [
       "<Figure size 360x360 with 1 Axes>"
      ]
     },
     "metadata": {
      "needs_background": "light"
     },
     "output_type": "display_data"
    }
   ],
   "source": [
    "plot_dist('ntags',False)"
   ]
  },
  {
   "cell_type": "code",
   "execution_count": 44,
   "metadata": {},
   "outputs": [
    {
     "data": {
      "image/png": "[encoded data removed]",
      "text/plain": [
       "<Figure size 720x504 with 2 Axes>"
      ]
     },
     "metadata": {
      "needs_background": "light"
     },
     "output_type": "display_data"
    }
   ],
   "source": [
    "\"\"\"\n",
    "Al momento ya se tiene un entendimiento mayor de la información. \n",
    "Ahora vamos a aprovechar la herramienta del heatmap para verificar\n",
    "qué posibles correlaciones hay entre las variables y comenzar con\n",
    "la selección de las mismas. Desafortunadamente al comparar el target \n",
    "con las variables no hay correlación notable. Lo que se puede ver es \n",
    "una ligera correlación con los features de views, likes, dislikes y \n",
    "comments count. \n",
    "\"\"\"\n",
    "\n",
    "fig = plt.figure(figsize=(10,7))\n",
    "correlation = data_usar.corr()\n",
    "sns.heatmap(correlation,annot=True)\n",
    "plt.title(\"Correlaciones\")\n",
    "plt.show()"
   ]
  },
  {
   "cell_type": "code",
   "execution_count": 46,
   "metadata": {},
   "outputs": [],
   "source": [
    "\"\"\"\n",
    "Las correlaciones revelaron que la categoría en realidad no es de mucha \n",
    "ayuda en cuanto a relación con el target. Sin embargo, para no dejar de \n",
    "explorarla se realiza el siguiente cambio con un propósito ilustrativo\n",
    "y de visualización. \n",
    "\"\"\"\n",
    "\n",
    "ayuda = [\"Film & Animation\",\"Autos & Vehicles\",\"Music\",\"Pets & Animals\",\n",
    "        \"Sports\",\"Travel & Events\",\"Gaming\",\"People & Blogs\",\"Comedy\",\n",
    "        \"Entertainment\",\"News & Politics\",\"Howto & Style\",\"Education\",\n",
    "        \"Science & Technology\",\"Nonprofits & Activism\",\"Shows\"]\n",
    "auxiliar_ayuda = [1,2,10,15,17,19,20,22,23,24,25,26,27,28,29,43]\n",
    "for i in range(len(ayuda)):\n",
    "    data_usar.loc[data_usar['category_id'] == auxiliar_ayuda[i], 'category_id'] = ayuda[i]"
   ]
  },
  {
   "cell_type": "code",
   "execution_count": 50,
   "metadata": {},
   "outputs": [
    {
     "data": {
      "image/png": "[encoded data removed]",
      "text/plain": [
       "<Figure size 720x360 with 1 Axes>"
      ]
     },
     "metadata": {
      "needs_background": "light"
     },
     "output_type": "display_data"
    }
   ],
   "source": [
    "\"\"\"\n",
    "Visualización de videos por categoría. \n",
    "\"\"\"\n",
    "\n",
    "counts = data_usar['category_id'].value_counts()\n",
    "indices = counts.index.to_numpy()\n",
    "valores = counts.to_numpy()\n",
    "plt.figure(figsize=(10,5))\n",
    "barra_categoria = sns.barplot(x=indices, y=valores,color='red')\n",
    "barra_categoria.set_xticklabels(barra_categoria.get_xticklabels(), rotation=45)\n",
    "plt.title(\"Cantidad de Videos por Categoría\")\n",
    "plt.show()"
   ]
  },
  {
   "cell_type": "code",
   "execution_count": 51,
   "metadata": {},
   "outputs": [
    {
     "name": "stdout",
     "output_type": "stream",
     "text": [
      "0    6250\n",
      "1     101\n",
      "Name: comments_disabled, dtype: int64\n",
      "0    6325\n",
      "1      26\n",
      "Name: ratings_disabled, dtype: int64\n",
      "0    6348\n",
      "1       3\n",
      "Name: video_error_or_removed, dtype: int64\n"
     ]
    }
   ],
   "source": [
    "\"\"\"\n",
    "Es importante aclarar que los siguientes 3 features están tremendamente\n",
    "desbalanceados. No es recomendable hacer transformaciones de under u\n",
    "oversampling para este caso. Además quedan descartadas como columnas \n",
    "útiles. \n",
    "\"\"\"\n",
    "\n",
    "print(data_usar['comments_disabled'].value_counts())\n",
    "print(data_usar['ratings_disabled'].value_counts())\n",
    "print(data_usar['video_error_or_removed'].value_counts())"
   ]
  },
  {
   "cell_type": "code",
   "execution_count": 58,
   "metadata": {},
   "outputs": [],
   "source": [
    "\"\"\"\n",
    "Finalmente hay que regresar la variable category a un estado \n",
    "numérico, esto se hace por medio de one hot encoding. \n",
    "\"\"\"\n",
    "\n",
    "test = pd.get_dummies(data_usar['category_id'])\n",
    "temporal = data_usar.drop(['category_id'],1)\n",
    "verificar_porfa = pd.concat([test,temporal], axis=1, sort=False)\n",
    "data = verificar_porfa.copy()"
   ]
  },
  {
   "cell_type": "markdown",
   "metadata": {},
   "source": [
    "## Entrenamiento, Predicciones y Evaluación"
   ]
  },
  {
   "cell_type": "code",
   "execution_count": 69,
   "metadata": {},
   "outputs": [],
   "source": [
    "\"\"\"\n",
    "Preparar la separación del dataset para el cross validation. En \n",
    "este caso se utilizará KFold CV para tener un resultado más \n",
    "consistente con la totalidad de datos disponibles. \n",
    "\"\"\"\n",
    "\n",
    "Y = data['target'].to_numpy().ravel()\n",
    "X = data.drop(['target'],1).to_numpy()"
   ]
  },
  {
   "cell_type": "code",
   "execution_count": 78,
   "metadata": {},
   "outputs": [],
   "source": [
    "\"\"\"\n",
    "Función para poder utilizar cross validation de manera automática. \n",
    "\"\"\"\n",
    "\n",
    "def cross_validation(model,x,y,splits):\n",
    "    resultados = []\n",
    "    cv = KFold(n_splits=10, shuffle=True)\n",
    "    contador = 0\n",
    "    for traini, testi in cv.split(x):\n",
    "        contador += 1\n",
    "\n",
    "        x_train, x_test, y_train, y_test = x[traini],x[testi],y[traini],y[testi]\n",
    "        modelin = model.fit(x_train, y_train)\n",
    "        prediccion = modelin.predict(x_test)\n",
    "        resultados.append(metrics.accuracy_score(y_test,prediccion))\n",
    "    return (resultados,np.mean(resultados))"
   ]
  },
  {
   "cell_type": "code",
   "execution_count": 81,
   "metadata": {},
   "outputs": [
    {
     "name": "stdout",
     "output_type": "stream",
     "text": [
      "Resultados generales: \n",
      " [0.7657232704402516, 0.7779527559055118, 0.7385826771653543, 0.7622047244094489, 0.7244094488188977, 0.7543307086614173, 0.7496062992125985, 0.7937007874015748, 0.7716535433070866, 0.7496062992125985]\n",
      "\n",
      "Mean Test Score:  0.758777051453474\n"
     ]
    }
   ],
   "source": [
    "primer_decision_tree = cross_validation(DecisionTreeClassifier(max_depth=5),X,Y,10)\n",
    "print(\"Resultados generales: \\n\",primer_decision_tree[0])\n",
    "print(\"\\nMean Test Score: \",primer_decision_tree[1])"
   ]
  },
  {
   "cell_type": "code",
   "execution_count": 85,
   "metadata": {},
   "outputs": [
    {
     "name": "stdout",
     "output_type": "stream",
     "text": [
      "Resultados generales: \n",
      " [0.7594339622641509, 0.7039370078740157, 0.75748031496063, 0.7433070866141732, 0.7622047244094489, 0.7748031496062993, 0.7496062992125985, 0.75748031496063, 0.7637795275590551, 0.7433070866141732]\n",
      "\n",
      "Mean Test Score:  0.7515339474075174\n"
     ]
    }
   ],
   "source": [
    "\"\"\"\n",
    "Anteriormente verificamos que las siguientes variables son las que mayor\n",
    "correlación tienen con el target, por lo tanto se evaluará el desempeño\n",
    "sin otras variables que podrían estar afectando al modelo. Hay algo muy \n",
    "importante que debemos notar, con notablemente menos features se obtuvo \n",
    "un desempeño prácticamente igual. Esto nos indica que las variables \n",
    "seleccionadas verdaderamente son útiles. \n",
    "\"\"\"\n",
    "better = ['views','likes','dislikes','comment_count','ntags']\n",
    "X2 = data.drop(['target'],1)[better].to_numpy()\n",
    "\n",
    "segundo_decision_tree = cross_validation(DecisionTreeClassifier(max_depth=5),X2,Y,10)\n",
    "print(\"Resultados generales: \\n\",segundo_decision_tree[0])\n",
    "print(\"\\nMean Test Score: \",segundo_decision_tree[1])"
   ]
  },
  {
   "cell_type": "code",
   "execution_count": 111,
   "metadata": {},
   "outputs": [],
   "source": [
    "dot_data = StringIO()\n",
    "export_graphviz(arbolin2, out_file=dot_data,  \n",
    "                filled=True, rounded=True,\n",
    "                special_characters=True,feature_names = better,class_names=['0','1'])\n",
    "graph = pydotplus.graph_from_dot_data(dot_data.getvalue())  \n",
    "img = Image(graph.create_png())"
   ]
  },
  {
   "cell_type": "code",
   "execution_count": 114,
   "metadata": {},
   "outputs": [],
   "source": [
    "with open(\"first.png\", \"wb\") as png:\n",
    "    png.write(graph.create_png())"
   ]
  },
  {
   "cell_type": "code",
   "execution_count": 116,
   "metadata": {},
   "outputs": [
    {
     "data": {
      "image/png": "[encoded data removed]",
      "text/plain": [
       "<Figure size 432x432 with 1 Axes>"
      ]
     },
     "metadata": {
      "needs_background": "light"
     },
     "output_type": "display_data"
    }
   ],
   "source": [
    "fpr = dict()\n",
    "tpr = dict()\n",
    "roc_auc = dict()\n",
    "fpr, tpr, _ = metrics.roc_curve(y_test, prediccion2)\n",
    "roc_auc = metrics.auc(fpr, tpr)\n",
    "f,ax = plt.subplots(figsize=(6,6))\n",
    "ax.plot(fpr, tpr, color='lightgreen',lw=2, label='ROC curve (area = {0:0.2f})'.format(roc_auc))\n",
    "ax.plot([0, 1], [0, 1], color='k', lw=1, linestyle='--', label='Random classifier')\n",
    "ax.set_xlim([0.0, 1.0])\n",
    "ax.set_ylim([0.0, 1.05])\n",
    "ax.set_xlabel('False Positive Rate')\n",
    "ax.set_ylabel('True Positive Rate')\n",
    "ax.set_title('Receiver Operating Characteristic Curve',fontsize=14)\n",
    "ax.legend()\n",
    "plt.show()"
   ]
  },
  {
   "cell_type": "code",
   "execution_count": 139,
   "metadata": {},
   "outputs": [
    {
     "data": {
      "text/plain": [
       "0.7631785995279308"
      ]
     },
     "execution_count": 139,
     "metadata": {},
     "output_type": "execute_result"
    }
   ],
   "source": [
    "bagging = BaggingClassifier(DecisionTreeClassifier(),\n",
    "                            n_estimators=200,\n",
    "                            bootstrap=True, \n",
    "                            max_samples=5,\n",
    "                            oob_score = False,\n",
    "                            n_jobs=-1)\n",
    "bagging.fit(x_train[better],y_train)\n",
    "y_pred_bagging = bagging.predict(x_test[better])\n",
    "res = metrics.accuracy_score(y_test,y_pred_bagging)\n",
    "res"
   ]
  },
  {
   "cell_type": "code",
   "execution_count": 142,
   "metadata": {},
   "outputs": [
    {
     "data": {
      "text/plain": [
       "0.7663257277734068"
      ]
     },
     "execution_count": 142,
     "metadata": {},
     "output_type": "execute_result"
    }
   ],
   "source": [
    "rand_forest = RandomForestClassifier(max_leaf_nodes=10,\n",
    "                                     bootstrap=True,\n",
    "                                     max_samples=5,\n",
    "                                     random_state=42,\n",
    "                                     n_estimators=500,\n",
    "                                     n_jobs=-1)\n",
    "# train the classifier\n",
    "rand_forest.fit(x_train, y_train)\n",
    "# predict\n",
    "y_pred = rand_forest.predict(x_test)\n",
    "# plot ROC\n",
    "res = metrics.accuracy_score(y_test,y_pred)\n",
    "res"
   ]
  },
  {
   "cell_type": "code",
   "execution_count": 143,
   "metadata": {},
   "outputs": [
    {
     "data": {
      "text/plain": [
       "views                     0.197290\n",
       "comment_count             0.167197\n",
       "likes                     0.164544\n",
       "dislikes                  0.161329\n",
       "ntags                     0.122066\n",
       "Entertainment             0.043510\n",
       "People & Blogs            0.024092\n",
       "Music                     0.019285\n",
       "Howto & Style             0.016263\n",
       "Science & Technology      0.015275\n",
       "Comedy                    0.014759\n",
       "News & Politics           0.013299\n",
       "Sports                    0.011663\n",
       "Education                 0.006885\n",
       "Film & Animation          0.005927\n",
       "Pets & Animals            0.005426\n",
       "Gaming                    0.005323\n",
       "comments_disabled         0.003642\n",
       "Travel & Events           0.001224\n",
       "Autos & Vehicles          0.000649\n",
       "ratings_disabled          0.000354\n",
       "Nonprofits & Activism     0.000000\n",
       "video_error_or_removed    0.000000\n",
       "Shows                     0.000000\n",
       "dtype: float64"
      ]
     },
     "execution_count": 143,
     "metadata": {},
     "output_type": "execute_result"
    }
   ],
   "source": [
    "feature_imp = pd.Series(rand_forest.feature_importances_,index=list(x_train.columns.values)).sort_values(ascending=False)\n",
    "feature_imp"
   ]
  },
  {
   "cell_type": "code",
   "execution_count": 171,
   "metadata": {},
   "outputs": [
    {
     "name": "stdout",
     "output_type": "stream",
     "text": [
      "0.7696850393700787\n",
      "0.7584579071597167\n"
     ]
    }
   ],
   "source": [
    "\n",
    "\n",
    "AdaBoost = AdaBoostClassifier(n_estimators=100, learning_rate=1.9).fit(x_train[better],y_train)\n",
    "c_pred_train = AdaBoost.score(x_train[better],y_train)\n",
    "c_pred_test = AdaBoost.score(x_test[better],y_test)\n",
    "print(c_pred_train)\n",
    "print(c_pred_test)"
   ]
  },
  {
   "cell_type": "code",
   "execution_count": 181,
   "metadata": {},
   "outputs": [
    {
     "name": "stdout",
     "output_type": "stream",
     "text": [
      "[0.09161986 0.05809648 0.45342276 ... 0.9791072  0.16780777 0.4174902 ]\n",
      "[0.0474678  0.7892241  0.7633302  ... 0.9210365  0.45178497 0.89656067]\n",
      "0.9017716535433071\n",
      "0.7018095987411487\n"
     ]
    }
   ],
   "source": [
    "train_matrix = xgb.DMatrix(x_train[better], label=y_train)\n",
    "test_matrix = xgb.DMatrix(x_test[better], label=y_test)\n",
    "\n",
    "parameters = {'booster': 'gbtree',\n",
    "              'max_depth': 5, \n",
    "              'eta': 0.8, \n",
    "              'gamma': .01}\n",
    "\n",
    "boost_rounds = 30\n",
    "bst = xgb.train(parameters, train_matrix, boost_rounds)\n",
    "\n",
    "y_train_pred = bst.predict(train_matrix)\n",
    "y_test_pred = bst.predict(test_matrix)\n",
    "print(y_train_pred)\n",
    "print(y_test_pred)\n",
    "print(metrics.accuracy_score(y_train,y_train_pred.round()))\n",
    "print(metrics.accuracy_score(y_test,y_test_pred.round()))"
   ]
  },
  {
   "cell_type": "code",
   "execution_count": null,
   "metadata": {},
   "outputs": [],
   "source": []
  }
 ],
 "metadata": {
  "kernelspec": {
   "display_name": "Python 3",
   "language": "python",
   "name": "python3"
  },
  "language_info": {
   "codemirror_mode": {
    "name": "ipython",
    "version": 3
   },
   "file_extension": ".py",
   "mimetype": "text/x-python",
   "name": "python",
   "nbconvert_exporter": "python",
   "pygments_lexer": "ipython3",
   "version": "3.7.6"
  }
 },
 "nbformat": 4,
 "nbformat_minor": 4
}
